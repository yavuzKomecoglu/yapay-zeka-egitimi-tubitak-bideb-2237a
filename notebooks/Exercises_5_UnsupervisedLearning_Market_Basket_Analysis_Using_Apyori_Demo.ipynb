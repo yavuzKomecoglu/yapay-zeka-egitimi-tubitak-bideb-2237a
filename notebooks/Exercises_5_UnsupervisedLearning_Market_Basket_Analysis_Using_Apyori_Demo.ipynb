{
  "cells": [
    {
      "cell_type": "markdown",
      "metadata": {
        "id": "QXKjGeQQmSjY"
      },
      "source": [
        "# Mağaza Verilerinin Pazar Sepeti Analizi\n",
        "\n",
        "## Veri kümesi\n",
        "\n",
        "* Bir Fransız perakende mağazasında bir hafta boyunca 7500 işlem verilen farklı ürünler.\n",
        "* Apriori kullanarak birliktelik kuralını hesaplamak için kütüphanemiz(**apyori**) var.\n",
        "\n"
      ]
    },
    {
      "cell_type": "markdown",
      "metadata": {
        "id": "VQsuy8lOmSjf"
      },
      "source": [
        "## Kütüphaneleri import edelim"
      ]
    },
    {
      "cell_type": "code",
      "execution_count": null,
      "metadata": {
        "id": "BWphlfHU2Yya"
      },
      "outputs": [],
      "source": [
        "!pip install apyori"
      ]
    },
    {
      "cell_type": "code",
      "execution_count": null,
      "metadata": {
        "ExecuteTime": {
          "end_time": "2019-05-31T11:46:52.394081Z",
          "start_time": "2019-05-31T11:46:51.727017Z"
        },
        "id": "jHhnMLW5mSjg"
      },
      "outputs": [],
      "source": [
        "import numpy as np\n",
        "import pandas as pd\n",
        "import matplotlib.pyplot as plt\n",
        "from apyori import apriori"
      ]
    },
    {
      "cell_type": "markdown",
      "metadata": {
        "id": "AmFCgbkKmSjh"
      },
      "source": [
        "## Verileri okuyalım ve göz atalım"
      ]
    },
    {
      "cell_type": "code",
      "execution_count": null,
      "metadata": {
        "id": "IR8i4CAn2PiF"
      },
      "outputs": [],
      "source": [
        "#ROOT_DIR = \"/content/drive/MyDrive/...\"\n",
        "ROOT_DIR = \"https://raw.githubusercontent.com/yavuzKomecoglu/yapay-zeka-egitimi-tubitak-bideb-2237a/main/\"\n",
        "DATASET_PATH = ROOT_DIR + \"datasets/apyori/store_data.csv\""
      ]
    },
    {
      "cell_type": "code",
      "execution_count": null,
      "metadata": {
        "ExecuteTime": {
          "end_time": "2019-05-31T11:46:52.446120Z",
          "start_time": "2019-05-31T11:46:52.396020Z"
        },
        "id": "X0d0F42DmSji"
      },
      "outputs": [],
      "source": [
        "store_data = pd.read_csv(DATASET_PATH, header=None)\n",
        "display(store_data.head())\n",
        "print(store_data.shape)"
      ]
    },
    {
      "cell_type": "markdown",
      "metadata": {
        "id": "jtDHggsomSjj"
      },
      "source": [
        "## Veri ön işleme adımları\n",
        "*  Burada Apriori Algoritması için liste şeklinde bir veriye ihtiyacımız var."
      ]
    },
    {
      "cell_type": "code",
      "execution_count": null,
      "metadata": {
        "ExecuteTime": {
          "end_time": "2019-05-31T11:46:53.754118Z",
          "start_time": "2019-05-31T11:46:52.448022Z"
        },
        "id": "ORP8RDc1mSjk"
      },
      "outputs": [],
      "source": [
        "records = []\n",
        "for i in range(1, 7501):\n",
        "    #records.append([str(store_data.values[i, j]) for j in range(0, 20)])\n",
        "    items = []\n",
        "    for j in range(0, 20):\n",
        "      item = str(store_data.values[i, j])\n",
        "      #print(item)\n",
        "      if item != 'nan':\n",
        "        items.append(item)\n",
        "\n",
        "    records.append(items)"
      ]
    },
    {
      "cell_type": "code",
      "execution_count": null,
      "metadata": {
        "ExecuteTime": {
          "end_time": "2019-05-31T11:46:53.759119Z",
          "start_time": "2019-05-31T11:46:53.756117Z"
        },
        "id": "AL-XWXMRmSjl"
      },
      "outputs": [],
      "source": [
        "print(type(records))"
      ]
    },
    {
      "cell_type": "markdown",
      "metadata": {
        "id": "Oj085cTdmSjl"
      },
      "source": [
        "## Apriori Algoritması\n",
        "\n",
        "* Şimdi verilere algoritma uygulama zamanı.\n",
        "* Kuralları elde etmek için kullanacağımız \"min_support\", \"min_confidence\", \"min_lift\" ve \"min uzunluk\" değerlerini hesaplamak için örnek veri kümesi sağladık.\n",
        "\n",
        "#### Ölçüm 1: Support (Destek).\n",
        "Bu, bir öğe kümesinin (itemset) göründüğü işlemlerin oranıyla ölçüldüğünde, bir öğe kümesinin ne kadar popüler olduğunu gösterir. \n",
        "\n",
        "Aşağıdaki Tablo 1'de {elma} desteği 8 üzerinden 4 veya %50'dir. Öğe kümeleri ayrıca birden çok öğe içerebilir. Örneğin, {elma, bira, pirinç} desteği 8 üzerinden 2 veya %25'tir.\n",
        "\n",
        "![](https://annalyzin.files.wordpress.com/2016/04/association-rule-support-table.png?w=503&h=447)\n",
        "\n",
        "Belirli bir oranın üzerindeki ürün satışlarının kârınız üzerinde önemli bir etkisi olduğunu keşfederseniz, bu oranı destek eşiğiniz olarak kullanmayı düşünebilirsiniz. Ardından, bu eşiğin üzerindeki destek değerlerine sahip öğe kümelerini önemli öğe kümeleri olarak tanımlayabilirsiniz.\n",
        "\n",
        "#### Ölçüm 2: Confidence (Güven) \n",
        "\n",
        "Bu, {X -> Y} olarak ifade edilen, X öğesi satın alındığında Y öğesinin ne kadar büyük olasılıkla satın alındığını belirtir. Bu, Y öğesinin de göründüğü X öğesiyle yapılan işlemlerin oranıyla ölçülür. Tablo 1'de, {elma -> bira} güvenirliği 4 üzerinden 3 veya %75'tir.\n",
        "\n",
        "![](https://annalyzin.files.wordpress.com/2016/03/association-rule-confidence-eqn.png?w=527&h=77)\n",
        "\n",
        "Güven ölçüsünün bir dezavantajı, bir ilişkinin önemini yanlış yansıtabilmesidir. Bunun nedeni, yalnızca elmaların ne kadar popüler olduğunu açıklıyor, ancak biraları değil. Genel olarak biralar da çok popülerse, elma içeren bir işlemin bira içermesi ve dolayısıyla güven ölçüsünü şişirme olasılığı daha yüksek olacaktır. Her iki bileşen öğesinin temel popülerliğini hesaba katmak için, lift adı verilen üçüncü bir ölçü kullanıyoruz.\n",
        "\n",
        "#### Measure 3: Lift. \n",
        "\n",
        "Bu, Y öğesinin ne kadar popüler olduğunu kontrol ederken, X öğesi satın alındığında Y öğesinin de satın alınma olasılığını belirtir. Tablo 1'de, {elma -> bira} artışı 1'dir ve bu, öğeler arasında hiçbir ilişki olmadığı anlamına gelir. 1'den büyük bir artış değeri, X öğesi satın alınırsa Y öğesinin satın alınmasının muhtemel olduğu anlamına gelirken, 1'den küçük bir değer, X öğesinin satın alınması durumunda Y öğesinin satın alınma olasılığının düşük olduğu anlamına gelir.\n",
        "\n",
        "![](https://annalyzin.files.wordpress.com/2016/03/association-rule-lift-eqn.png?w=566&h=80)"
      ]
    },
    {
      "cell_type": "code",
      "execution_count": null,
      "metadata": {
        "ExecuteTime": {
          "end_time": "2019-05-31T11:47:42.407141Z",
          "start_time": "2019-05-31T11:47:40.566100Z"
        },
        "id": "yXZTnLSXmSjm"
      },
      "outputs": [],
      "source": [
        "association_rules = apriori(records, min_support=0.0045, min_confidence=0.2, min_lift=3, min_length=2)\n",
        "association_results = list(association_rules)"
      ]
    },
    {
      "cell_type": "markdown",
      "metadata": {
        "id": "9STPafQjmSjn"
      },
      "source": [
        "## Kaç tane ilişki türetilmiştir?"
      ]
    },
    {
      "cell_type": "code",
      "execution_count": null,
      "metadata": {
        "ExecuteTime": {
          "end_time": "2019-05-31T11:46:55.776118Z",
          "start_time": "2019-05-31T11:46:55.770118Z"
        },
        "id": "U-PvrtVDmSjn"
      },
      "outputs": [],
      "source": [
        "print(\"There are {} Relation derived.\".format(len(association_results)))"
      ]
    },
    {
      "cell_type": "markdown",
      "metadata": {
        "id": "2KeQNSJ1mSjo"
      },
      "source": [
        "### Türetilmiş Birliktelik Kuralları"
      ]
    },
    {
      "cell_type": "code",
      "execution_count": null,
      "metadata": {
        "ExecuteTime": {
          "end_time": "2019-05-31T11:46:55.873119Z",
          "start_time": "2019-05-31T11:46:55.778119Z"
        },
        "code_folding": [],
        "id": "tLNvFuTfmSjo"
      },
      "outputs": [],
      "source": [
        "for i in range(0, len(association_results)):\n",
        "    print(association_results[i][0])"
      ]
    },
    {
      "cell_type": "markdown",
      "metadata": {
        "id": "hmAaogfjmSjo"
      },
      "source": [
        "## Oluşturulan Kurallar"
      ]
    },
    {
      "cell_type": "code",
      "execution_count": null,
      "metadata": {
        "ExecuteTime": {
          "end_time": "2019-05-31T11:48:08.589737Z",
          "start_time": "2019-05-31T11:48:08.573742Z"
        },
        "id": "X77HJVv-mSjp",
        "scrolled": false
      },
      "outputs": [],
      "source": [
        "for item in association_results:\n",
        "    # first index of the inner list\n",
        "    # Contains base item and add item\n",
        "    pair = item[0]\n",
        "    items = [x for x in pair]\n",
        "    print(\"Rule: \" + items[0] + \" -> \" + items[1])\n",
        "\n",
        "    # second index of the inner list\n",
        "    print(\"Support: \" + str(item[1]))\n",
        "\n",
        "    # third index of the list located at 0th\n",
        "    # of the third index of the inner list\n",
        "\n",
        "    print(\"Confidence: \" + str(item[2][0][2]))\n",
        "    print(\"Lift: \" + str(item[2][0][3]))\n",
        "    print(\"=====================================\")"
      ]
    },
    {
      "cell_type": "code",
      "execution_count": null,
      "metadata": {
        "id": "RMnsO_5B2hni"
      },
      "outputs": [],
      "source": []
    }
  ],
  "metadata": {
    "colab": {
      "collapsed_sections": [],
      "name": "Day8_UnsupervisedLearning_Market_Basket_Analysis_Using_Apyori_Demo4.ipynb",
      "provenance": []
    },
    "hide_input": false,
    "kernelspec": {
      "display_name": "Python 3",
      "language": "python",
      "name": "python3"
    },
    "language_info": {
      "codemirror_mode": {
        "name": "ipython",
        "version": 3
      },
      "file_extension": ".py",
      "mimetype": "text/x-python",
      "name": "python",
      "nbconvert_exporter": "python",
      "pygments_lexer": "ipython3",
      "version": "3.6.8"
    },
    "latex_envs": {
      "LaTeX_envs_menu_present": true,
      "autoclose": false,
      "autocomplete": true,
      "bibliofile": "biblio.bib",
      "cite_by": "apalike",
      "current_citInitial": 1,
      "eqLabelWithNumbers": true,
      "eqNumInitial": 1,
      "hotkeys": {
        "equation": "Ctrl-E",
        "itemize": "Ctrl-I"
      },
      "labels_anchors": false,
      "latex_user_defs": false,
      "report_style_numbering": false,
      "user_envs_cfg": false
    },
    "nbTranslate": {
      "displayLangs": [
        "*"
      ],
      "hotkey": "alt-t",
      "langInMainMenu": true,
      "sourceLang": "en",
      "targetLang": "fr",
      "useGoogleTranslate": true
    },
    "toc": {
      "base_numbering": 1,
      "nav_menu": {},
      "number_sections": true,
      "sideBar": true,
      "skip_h1_title": false,
      "title_cell": "Table of Contents",
      "title_sidebar": "Contents",
      "toc_cell": false,
      "toc_position": {},
      "toc_section_display": true,
      "toc_window_display": false
    },
    "varInspector": {
      "cols": {
        "lenName": 16,
        "lenType": 16,
        "lenVar": 40
      },
      "kernels_config": {
        "python": {
          "delete_cmd_postfix": "",
          "delete_cmd_prefix": "del ",
          "library": "var_list.py",
          "varRefreshCmd": "print(var_dic_list())"
        },
        "r": {
          "delete_cmd_postfix": ") ",
          "delete_cmd_prefix": "rm(",
          "library": "var_list.r",
          "varRefreshCmd": "cat(var_dic_list()) "
        }
      },
      "types_to_exclude": [
        "module",
        "function",
        "builtin_function_or_method",
        "instance",
        "_Feature"
      ],
      "window_display": false
    }
  },
  "nbformat": 4,
  "nbformat_minor": 0
}
