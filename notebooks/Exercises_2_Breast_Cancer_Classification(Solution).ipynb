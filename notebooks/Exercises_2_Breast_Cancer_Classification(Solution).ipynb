{
  "cells": [
    {
      "cell_type": "markdown",
      "id": "cJv0qhlNrTzp",
      "metadata": {
        "id": "cJv0qhlNrTzp"
      },
      "source": [
        "# Göğüs Kanseri (Breast Cancer) Sınıflandırması"
      ]
    },
    {
      "cell_type": "markdown",
      "id": "kHk1RCndXnPq",
      "metadata": {
        "id": "kHk1RCndXnPq"
      },
      "source": [
        "`pandas`, `numpy` ve `seaborn` kütüphanelerini kullanmak üzere ekleyin (import edin)\n"
      ]
    },
    {
      "cell_type": "code",
      "execution_count": null,
      "id": "041050ae",
      "metadata": {
        "_cell_guid": "b1076dfc-b9ad-4769-8c92-a6c4dae69d19",
        "_uuid": "8f2839f25d086af736a60e9eeb907d3b93b6e0e5",
        "execution": {
          "iopub.execute_input": "2022-03-27T14:38:13.418267Z",
          "iopub.status.busy": "2022-03-27T14:38:13.417051Z",
          "iopub.status.idle": "2022-03-27T14:38:15.827965Z",
          "shell.execute_reply": "2022-03-27T14:38:15.828679Z",
          "shell.execute_reply.started": "2022-03-27T14:35:17.026021Z"
        },
        "id": "041050ae",
        "papermill": {
          "duration": 2.437933,
          "end_time": "2022-03-27T14:38:15.829023",
          "exception": false,
          "start_time": "2022-03-27T14:38:13.391090",
          "status": "completed"
        },
        "tags": []
      },
      "outputs": [],
      "source": [
        "# kütüphaneleri yükleyin\n",
        "import numpy as np \n",
        "import seaborn as sns\n",
        "import pandas as pd "
      ]
    },
    {
      "cell_type": "code",
      "execution_count": null,
      "id": "IiC04N8kTcU1",
      "metadata": {
        "id": "IiC04N8kTcU1"
      },
      "outputs": [],
      "source": [
        "#from google.colab import drive\n",
        "#drive.mount('/content/drive')"
      ]
    },
    {
      "cell_type": "code",
      "execution_count": null,
      "id": "euuRrpDnTdX6",
      "metadata": {
        "id": "euuRrpDnTdX6"
      },
      "outputs": [],
      "source": [
        "#ROOT_DIR = \"/content/drive/MyDrive/..\"\n",
        "#DATASET_PATH = ROOT_DIR + \"/datasets/\"\n",
        "\n",
        "ROOT_DIR = \"https://raw.githubusercontent.com/yavuzKomecoglu/yapay-zeka-egitimi-tubitak-bideb-2237a/main/\"\n",
        "DATASET_PATH = ROOT_DIR + \"Session1/notebooks/datasets/breast_cancer_dataset.csv\""
      ]
    },
    {
      "cell_type": "code",
      "execution_count": null,
      "id": "334fcf64",
      "metadata": {
        "execution": {
          "iopub.execute_input": "2022-03-27T14:38:15.879495Z",
          "iopub.status.busy": "2022-03-27T14:38:15.878854Z",
          "iopub.status.idle": "2022-03-27T14:38:15.949533Z",
          "shell.execute_reply": "2022-03-27T14:38:15.950086Z",
          "shell.execute_reply.started": "2022-03-27T14:35:19.515154Z"
        },
        "id": "334fcf64",
        "papermill": {
          "duration": 0.096885,
          "end_time": "2022-03-27T14:38:15.950282",
          "exception": false,
          "start_time": "2022-03-27T14:38:15.853397",
          "status": "completed"
        },
        "tags": []
      },
      "outputs": [],
      "source": [
        "df = pd.read_csv(DATASET_PATH)"
      ]
    },
    {
      "cell_type": "code",
      "execution_count": null,
      "id": "7d5v0cmccGhe",
      "metadata": {
        "id": "7d5v0cmccGhe"
      },
      "outputs": [],
      "source": []
    },
    {
      "cell_type": "markdown",
      "id": "y2n4MhyPpzVH",
      "metadata": {
        "id": "y2n4MhyPpzVH"
      },
      "source": [
        "Öznitelik Bilgileri:\n",
        "\n",
        "- id (kimlik numarası)\n",
        "- diagnosis (tanı) (M = malignant (kötü huylu), B = benign (iyi huylu))\n"
      ]
    },
    {
      "cell_type": "markdown",
      "id": "8HAu7MrJXwo7",
      "metadata": {
        "id": "8HAu7MrJXwo7"
      },
      "source": [
        "Yüklenen (Load edilen) dataframe'i görüntüleyin"
      ]
    },
    {
      "cell_type": "code",
      "execution_count": null,
      "id": "O7fNwvXgXyFI",
      "metadata": {
        "colab": {
          "base_uri": "https://localhost:8080/",
          "height": 505
        },
        "id": "O7fNwvXgXyFI",
        "outputId": "2bb8ea8e-e3b2-441e-a21d-202ab413a713"
      },
      "outputs": [],
      "source": [
        "df"
      ]
    },
    {
      "cell_type": "markdown",
      "id": "CvaRixvYXz3L",
      "metadata": {
        "id": "CvaRixvYXz3L"
      },
      "source": [
        "Dataframe'in boyutunu görüntüleyin"
      ]
    },
    {
      "cell_type": "code",
      "execution_count": null,
      "id": "ab90f5a5",
      "metadata": {
        "colab": {
          "base_uri": "https://localhost:8080/"
        },
        "execution": {
          "iopub.execute_input": "2022-03-27T14:38:16.002738Z",
          "iopub.status.busy": "2022-03-27T14:38:16.002027Z",
          "iopub.status.idle": "2022-03-27T14:38:16.005863Z",
          "shell.execute_reply": "2022-03-27T14:38:16.005163Z",
          "shell.execute_reply.started": "2022-03-27T14:35:19.586016Z"
        },
        "id": "ab90f5a5",
        "outputId": "f670e7ef-5af4-4a1b-d357-252f99ed2451",
        "papermill": {
          "duration": 0.032861,
          "end_time": "2022-03-27T14:38:16.006010",
          "exception": false,
          "start_time": "2022-03-27T14:38:15.973149",
          "status": "completed"
        },
        "tags": []
      },
      "outputs": [],
      "source": [
        "df.shape"
      ]
    },
    {
      "cell_type": "markdown",
      "id": "cgY2qNnNYDuH",
      "metadata": {
        "id": "cgY2qNnNYDuH"
      },
      "source": [
        "DataFrame içerisindeki **\"Unnamed: 32\"** ve **\"id\"** kolonlarını dataframe'den kaldırın."
      ]
    },
    {
      "cell_type": "code",
      "execution_count": null,
      "id": "30c10cef",
      "metadata": {
        "execution": {
          "iopub.execute_input": "2022-03-27T14:38:16.066198Z",
          "iopub.status.busy": "2022-03-27T14:38:16.065393Z",
          "iopub.status.idle": "2022-03-27T14:38:16.069128Z",
          "shell.execute_reply": "2022-03-27T14:38:16.068573Z",
          "shell.execute_reply.started": "2022-03-27T14:35:19.593751Z"
        },
        "id": "30c10cef",
        "papermill": {
          "duration": 0.039569,
          "end_time": "2022-03-27T14:38:16.069276",
          "exception": false,
          "start_time": "2022-03-27T14:38:16.029707",
          "status": "completed"
        },
        "tags": []
      },
      "outputs": [],
      "source": [
        "df.drop(['Unnamed: 32','id'], axis = 1, inplace=True)"
      ]
    },
    {
      "cell_type": "code",
      "execution_count": null,
      "id": "bS0Xu26ylsHs",
      "metadata": {
        "colab": {
          "base_uri": "https://localhost:8080/",
          "height": 505
        },
        "id": "bS0Xu26ylsHs",
        "outputId": "7ecd039c-2966-4024-d890-419a280fb4b9"
      },
      "outputs": [],
      "source": [
        "df"
      ]
    },
    {
      "cell_type": "markdown",
      "id": "YjeXuWAWYTLx",
      "metadata": {
        "id": "YjeXuWAWYTLx"
      },
      "source": [
        "Veri kümesini tahminlenmeye çalışılan değerlerini içeren kolonun adı **\"diagnosis\"** (teşhis,tanı) dir.\n",
        "pandas dataframe'in `unique()` property'sini kullanarak farklı etiketin bulunduğunu keşfedin.\n"
      ]
    },
    {
      "cell_type": "code",
      "execution_count": null,
      "id": "b12339eb",
      "metadata": {
        "colab": {
          "base_uri": "https://localhost:8080/"
        },
        "execution": {
          "iopub.execute_input": "2022-03-27T14:38:16.125077Z",
          "iopub.status.busy": "2022-03-27T14:38:16.124200Z",
          "iopub.status.idle": "2022-03-27T14:38:16.128006Z",
          "shell.execute_reply": "2022-03-27T14:38:16.127360Z",
          "shell.execute_reply.started": "2022-03-27T14:35:19.610224Z"
        },
        "id": "b12339eb",
        "outputId": "428a1f58-853f-49fb-ce5e-7ca12a0d630c",
        "papermill": {
          "duration": 0.035937,
          "end_time": "2022-03-27T14:38:16.128151",
          "exception": false,
          "start_time": "2022-03-27T14:38:16.092214",
          "status": "completed"
        },
        "tags": []
      },
      "outputs": [],
      "source": [
        "df['diagnosis'].unique()"
      ]
    },
    {
      "cell_type": "markdown",
      "id": "Gs9NQs-nYrk_",
      "metadata": {
        "id": "Gs9NQs-nYrk_"
      },
      "source": [
        "pandas dataframe'in `value_counts()` property'sini kullanarak her sınıfa ait örnek sayısını bulun. "
      ]
    },
    {
      "cell_type": "code",
      "execution_count": null,
      "id": "acaa5d5b",
      "metadata": {
        "colab": {
          "base_uri": "https://localhost:8080/"
        },
        "execution": {
          "iopub.execute_input": "2022-03-27T14:38:16.186351Z",
          "iopub.status.busy": "2022-03-27T14:38:16.185510Z",
          "iopub.status.idle": "2022-03-27T14:38:16.188894Z",
          "shell.execute_reply": "2022-03-27T14:38:16.189380Z",
          "shell.execute_reply.started": "2022-03-27T14:35:19.623986Z"
        },
        "id": "acaa5d5b",
        "outputId": "cb3a0e76-1fbe-4894-b970-526209a2102c",
        "papermill": {
          "duration": 0.038223,
          "end_time": "2022-03-27T14:38:16.189553",
          "exception": false,
          "start_time": "2022-03-27T14:38:16.151330",
          "status": "completed"
        },
        "tags": []
      },
      "outputs": [],
      "source": [
        "df['diagnosis'].value_counts()"
      ]
    },
    {
      "cell_type": "markdown",
      "id": "MN1TBeASZVAN",
      "metadata": {
        "id": "MN1TBeASZVAN"
      },
      "source": [
        "\"diagnosis\" kolonundaki M değerlerini 1 ile, B değerlerini ise 0 ile değiştirin\n"
      ]
    },
    {
      "cell_type": "code",
      "execution_count": null,
      "id": "ae705c0a",
      "metadata": {
        "execution": {
          "iopub.execute_input": "2022-03-27T14:38:16.372987Z",
          "iopub.status.busy": "2022-03-27T14:38:16.372298Z",
          "iopub.status.idle": "2022-03-27T14:38:16.374855Z",
          "shell.execute_reply": "2022-03-27T14:38:16.375335Z",
          "shell.execute_reply.started": "2022-03-27T14:35:19.670143Z"
        },
        "id": "ae705c0a",
        "papermill": {
          "duration": 0.034467,
          "end_time": "2022-03-27T14:38:16.375520",
          "exception": false,
          "start_time": "2022-03-27T14:38:16.341053",
          "status": "completed"
        },
        "tags": []
      },
      "outputs": [],
      "source": [
        "df['diagnosis'].replace(\n",
        "    {\n",
        "        'M' : 1, \n",
        "        'B' : 0\n",
        "     }\n",
        "    , inplace=True)"
      ]
    },
    {
      "cell_type": "code",
      "execution_count": null,
      "id": "_ET-GDlMkanO",
      "metadata": {
        "colab": {
          "base_uri": "https://localhost:8080/",
          "height": 505
        },
        "id": "_ET-GDlMkanO",
        "outputId": "57197ac7-42f8-4979-d0e5-f315f33bddf7"
      },
      "outputs": [],
      "source": [
        "df"
      ]
    },
    {
      "cell_type": "code",
      "execution_count": null,
      "id": "C4xgM2SidbgH",
      "metadata": {
        "colab": {
          "base_uri": "https://localhost:8080/"
        },
        "id": "C4xgM2SidbgH",
        "outputId": "40d610a9-576d-4816-df8b-791a3163599b"
      },
      "outputs": [],
      "source": [
        "df['diagnosis'].value_counts()"
      ]
    },
    {
      "cell_type": "markdown",
      "id": "bGmO9_SVZj4p",
      "metadata": {
        "id": "bGmO9_SVZj4p"
      },
      "source": [
        "model inputu olarak etiket değerlerini \"y\" dizisine, diğer öznitelikleri (features) de X matrisine tanımlayın.  "
      ]
    },
    {
      "cell_type": "code",
      "execution_count": null,
      "id": "3VacpYFqdlEJ",
      "metadata": {
        "colab": {
          "base_uri": "https://localhost:8080/"
        },
        "id": "3VacpYFqdlEJ",
        "outputId": "fec1b8a7-153b-4176-d14b-2cfa15cfa920"
      },
      "outputs": [],
      "source": [
        "y = df[\"diagnosis\"]\n",
        "y"
      ]
    },
    {
      "cell_type": "code",
      "execution_count": null,
      "id": "EeIhWkOlZ74d",
      "metadata": {
        "id": "EeIhWkOlZ74d"
      },
      "outputs": [],
      "source": [
        "\n",
        "X = df.drop([\"diagnosis\"], axis=1)"
      ]
    },
    {
      "cell_type": "code",
      "execution_count": null,
      "id": "0kzJs9-1lhUo",
      "metadata": {
        "colab": {
          "base_uri": "https://localhost:8080/",
          "height": 505
        },
        "id": "0kzJs9-1lhUo",
        "outputId": "ff4d324f-efa0-4811-f8d9-16c7a2f6d053"
      },
      "outputs": [],
      "source": [
        "df"
      ]
    },
    {
      "cell_type": "code",
      "execution_count": null,
      "id": "1YbCIsEwdvwv",
      "metadata": {
        "colab": {
          "base_uri": "https://localhost:8080/",
          "height": 505
        },
        "id": "1YbCIsEwdvwv",
        "outputId": "76a1395f-40b6-469a-aaf6-879080ec4d11"
      },
      "outputs": [],
      "source": [
        "X"
      ]
    },
    {
      "cell_type": "markdown",
      "id": "qbQBQ5GuaCr1",
      "metadata": {
        "id": "qbQBQ5GuaCr1"
      },
      "source": [
        "X matrisinin boyutunun (569, 30) olduğunu görüntüleyerek teyit edin."
      ]
    },
    {
      "cell_type": "code",
      "execution_count": null,
      "id": "02bb2f6d",
      "metadata": {
        "colab": {
          "base_uri": "https://localhost:8080/"
        },
        "execution": {
          "iopub.execute_input": "2022-03-27T14:38:16.488189Z",
          "iopub.status.busy": "2022-03-27T14:38:16.487447Z",
          "iopub.status.idle": "2022-03-27T14:38:16.491570Z",
          "shell.execute_reply": "2022-03-27T14:38:16.491062Z",
          "shell.execute_reply.started": "2022-03-27T14:35:19.690026Z"
        },
        "id": "02bb2f6d",
        "outputId": "38fc3535-8266-49b6-d5f8-51c942d8209f",
        "papermill": {
          "duration": 0.033671,
          "end_time": "2022-03-27T14:38:16.491760",
          "exception": false,
          "start_time": "2022-03-27T14:38:16.458089",
          "status": "completed"
        },
        "tags": []
      },
      "outputs": [],
      "source": [
        "X.shape"
      ]
    },
    {
      "cell_type": "markdown",
      "id": "pshC9qkIabSO",
      "metadata": {
        "id": "pshC9qkIabSO"
      },
      "source": [
        "Tüm veri kümesinin %30'unu test kümesi, geri kalanını da eğitim kümesi olacak şekilde ayırın."
      ]
    },
    {
      "cell_type": "code",
      "execution_count": null,
      "id": "171d76f4",
      "metadata": {
        "execution": {
          "iopub.execute_input": "2022-03-27T14:38:16.754670Z",
          "iopub.status.busy": "2022-03-27T14:38:16.754036Z",
          "iopub.status.idle": "2022-03-27T14:38:16.759373Z",
          "shell.execute_reply": "2022-03-27T14:38:16.760023Z",
          "shell.execute_reply.started": "2022-03-27T14:35:19.807625Z"
        },
        "id": "171d76f4",
        "papermill": {
          "duration": 0.035406,
          "end_time": "2022-03-27T14:38:16.760215",
          "exception": false,
          "start_time": "2022-03-27T14:38:16.724809",
          "status": "completed"
        },
        "tags": []
      },
      "outputs": [],
      "source": [
        "from sklearn.model_selection import train_test_split\n",
        "\n",
        "X_train, X_test, y_train, y_test = train_test_split(X, y, test_size = 0.25)"
      ]
    },
    {
      "cell_type": "code",
      "execution_count": null,
      "id": "yZGhQv_dlW4I",
      "metadata": {
        "colab": {
          "base_uri": "https://localhost:8080/",
          "height": 505
        },
        "id": "yZGhQv_dlW4I",
        "outputId": "81b27717-b4ac-4739-dbff-35aa364874f9"
      },
      "outputs": [],
      "source": [
        "X_train"
      ]
    },
    {
      "cell_type": "code",
      "execution_count": null,
      "id": "Q8Trvm3ol2ZL",
      "metadata": {
        "colab": {
          "base_uri": "https://localhost:8080/"
        },
        "id": "Q8Trvm3ol2ZL",
        "outputId": "298d4085-080d-46f8-9682-3cff2ba9ec60"
      },
      "outputs": [],
      "source": [
        "y_train"
      ]
    },
    {
      "cell_type": "markdown",
      "id": "WfmHn9vScLON",
      "metadata": {
        "id": "WfmHn9vScLON"
      },
      "source": [
        "## SVM"
      ]
    },
    {
      "cell_type": "markdown",
      "id": "osYXNpW3agOB",
      "metadata": {
        "id": "osYXNpW3agOB"
      },
      "source": [
        "`sklearn` kütüphanesi altındaki **SVC** (SVM) sınıflandırma algoritmasını kullanarak sınıflandırma modelini eğitin.\n",
        "\n",
        "**kernel** hiperparametresini **linear** olarak tanımlayarak kullanın."
      ]
    },
    {
      "cell_type": "code",
      "execution_count": null,
      "id": "OgsGRuoNUtQF",
      "metadata": {
        "colab": {
          "base_uri": "https://localhost:8080/"
        },
        "id": "OgsGRuoNUtQF",
        "outputId": "0462f83b-cdea-4f9f-9f87-1bf54c620aa4"
      },
      "outputs": [],
      "source": [
        "from sklearn.svm import SVC\n",
        "\n",
        "svc = SVC(kernel='linear')\n",
        "\n",
        "svc.fit(X_train, y_train)"
      ]
    },
    {
      "cell_type": "markdown",
      "id": "E6lD4wmzbGVi",
      "metadata": {
        "id": "E6lD4wmzbGVi"
      },
      "source": [
        "Eğitmiş modeli, test kümesi üzerinde çalıştırarak tahminleri elde edin ve tahmin sonuçlarını görüntüleyin. "
      ]
    },
    {
      "cell_type": "code",
      "execution_count": null,
      "id": "b-VgxeAwmRw_",
      "metadata": {
        "colab": {
          "base_uri": "https://localhost:8080/"
        },
        "id": "b-VgxeAwmRw_",
        "outputId": "9c18d826-0b17-45f8-c8a4-cbb65d9ece52"
      },
      "outputs": [],
      "source": [
        "X_test.iloc[0]"
      ]
    },
    {
      "cell_type": "code",
      "execution_count": null,
      "id": "MSnzBk2nVDFH",
      "metadata": {
        "colab": {
          "base_uri": "https://localhost:8080/"
        },
        "id": "MSnzBk2nVDFH",
        "outputId": "cd292ae0-053c-4627-d235-d0447357607f"
      },
      "outputs": [],
      "source": [
        "y_pred = svc.predict(X_test)\n",
        "print(y_pred)"
      ]
    },
    {
      "cell_type": "markdown",
      "id": "f_qe4x0gbU6S",
      "metadata": {
        "id": "f_qe4x0gbU6S"
      },
      "source": [
        "`sklearn.metrics` kütüphanesi altındaki `accuracy_score` fonksiyonundan yararlanarak başarım oranını hesaplatın."
      ]
    },
    {
      "cell_type": "code",
      "execution_count": null,
      "id": "zjzOzAIbV6wm",
      "metadata": {
        "id": "zjzOzAIbV6wm"
      },
      "outputs": [],
      "source": [
        "# Accuracy Score\n",
        "from sklearn.metrics import accuracy_score"
      ]
    },
    {
      "cell_type": "code",
      "execution_count": null,
      "id": "ZX1Vuq6hV9Y9",
      "metadata": {
        "colab": {
          "base_uri": "https://localhost:8080/"
        },
        "id": "ZX1Vuq6hV9Y9",
        "outputId": "27aeffd1-0121-4e6e-8bc8-6688f503fa67"
      },
      "outputs": [],
      "source": [
        "print(\"Accuracy Score\",accuracy_score(y_test, y_pred))"
      ]
    },
    {
      "cell_type": "markdown",
      "id": "hNFMgmrnblgp",
      "metadata": {
        "id": "hNFMgmrnblgp"
      },
      "source": [
        "test kümesinin etiketleri ile test kümesi üzerindeki model tahminlerini karşılaştıran confusion_matrix (karışıklık matrisi)ni oluşturun.\n"
      ]
    },
    {
      "cell_type": "code",
      "execution_count": null,
      "id": "3881a4e3",
      "metadata": {
        "colab": {
          "base_uri": "https://localhost:8080/"
        },
        "execution": {
          "iopub.execute_input": "2022-03-27T14:38:24.609706Z",
          "iopub.status.busy": "2022-03-27T14:38:24.609027Z",
          "iopub.status.idle": "2022-03-27T14:38:25.074455Z",
          "shell.execute_reply": "2022-03-27T14:38:25.073852Z",
          "shell.execute_reply.started": "2022-03-27T14:35:27.191050Z"
        },
        "id": "3881a4e3",
        "outputId": "1da77c85-139d-4327-e8f2-8720bcb1d523",
        "papermill": {
          "duration": 0.49638,
          "end_time": "2022-03-27T14:38:25.074630",
          "exception": false,
          "start_time": "2022-03-27T14:38:24.578250",
          "status": "completed"
        },
        "tags": []
      },
      "outputs": [],
      "source": [
        "from sklearn.metrics import confusion_matrix\n",
        "\n",
        "cm = confusion_matrix(y_test, y_pred)\n",
        "cm"
      ]
    },
    {
      "cell_type": "markdown",
      "id": "Eq_wqI7acJK2",
      "metadata": {
        "id": "Eq_wqI7acJK2"
      },
      "source": [
        "## KNeighborsClassifier\n",
        "\n",
        "SVM'e benzer şekilde `KNeighborsClassifier` sınıflandırma modelini eğiterek ACC (Accuracy) ve CF (Confusion Matrix) değerlerini hesaplayın.\n",
        "\n",
        "KNeighborsClassifier modeli için n_neighbors hiperparametre değerini 5 olarak atayınız."
      ]
    },
    {
      "cell_type": "code",
      "execution_count": null,
      "id": "cc-lD64vVMGa",
      "metadata": {
        "id": "cc-lD64vVMGa"
      },
      "outputs": [],
      "source": [
        "from sklearn.neighbors import KNeighborsClassifier\n",
        "\n",
        "## KNN Classifier with K=5 (Initial)\n",
        "knn = KNeighborsClassifier(n_neighbors=3)\n",
        "\n",
        "## Fit the model\n",
        "knn.fit(X_train, y_train)\n",
        "\n",
        "## Predict the values\n",
        "pred = knn.predict(X_test)"
      ]
    },
    {
      "cell_type": "code",
      "execution_count": null,
      "id": "jzoK0xg9V4RF",
      "metadata": {
        "id": "jzoK0xg9V4RF"
      },
      "outputs": [],
      "source": [
        "# Accuracy Score\n",
        "from sklearn.metrics import accuracy_score"
      ]
    },
    {
      "cell_type": "code",
      "execution_count": null,
      "id": "xdWcS6r_Vqs4",
      "metadata": {
        "colab": {
          "base_uri": "https://localhost:8080/"
        },
        "id": "xdWcS6r_Vqs4",
        "outputId": "4958c13c-0ed3-426e-c8cb-7b381df3e776"
      },
      "outputs": [],
      "source": [
        "print(\"Accuracy Score\",accuracy_score(y_test, pred))"
      ]
    },
    {
      "cell_type": "code",
      "execution_count": null,
      "id": "y7nHRTcFVd3N",
      "metadata": {
        "colab": {
          "base_uri": "https://localhost:8080/"
        },
        "id": "y7nHRTcFVd3N",
        "outputId": "c8ab04e4-a12b-4786-f385-356e05ae2fff"
      },
      "outputs": [],
      "source": [
        "cm = confusion_matrix(y_test, pred)\n",
        "cm"
      ]
    },
    {
      "cell_type": "code",
      "execution_count": null,
      "id": "dx5PDgPQVkzg",
      "metadata": {
        "id": "dx5PDgPQVkzg"
      },
      "outputs": [],
      "source": []
    }
  ],
  "metadata": {
    "colab": {
      "collapsed_sections": [],
      "name": "Day1-Introduction-Exercises-1-Breast-Cancer-Classification(Solution).ipynb",
      "provenance": []
    },
    "kernelspec": {
      "display_name": "Python 3",
      "language": "python",
      "name": "python3"
    },
    "language_info": {
      "codemirror_mode": {
        "name": "ipython",
        "version": 3
      },
      "file_extension": ".py",
      "mimetype": "text/x-python",
      "name": "python",
      "nbconvert_exporter": "python",
      "pygments_lexer": "ipython3",
      "version": "3.7.12"
    },
    "papermill": {
      "default_parameters": {},
      "duration": 22.945646,
      "end_time": "2022-03-27T14:38:26.218269",
      "environment_variables": {},
      "exception": null,
      "input_path": "__notebook__.ipynb",
      "output_path": "__notebook__.ipynb",
      "parameters": {},
      "start_time": "2022-03-27T14:38:03.272623",
      "version": "2.3.3"
    }
  },
  "nbformat": 4,
  "nbformat_minor": 5
}
