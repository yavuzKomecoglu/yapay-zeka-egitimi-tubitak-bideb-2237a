{
  "cells": [
    {
      "cell_type": "markdown",
      "source": [
        "# Göğüs Kanseri (Breast Cancer) Sınıflandırması"
      ],
      "metadata": {
        "id": "M1SDvcE_pQVX"
      },
      "id": "M1SDvcE_pQVX"
    },
    {
      "cell_type": "markdown",
      "source": [
        "`pandas`, `numpy` ve `seaborn` kütüphanelerini kullanmak üzere ekleyin (import edin)\n"
      ],
      "metadata": {
        "id": "kHk1RCndXnPq"
      },
      "id": "kHk1RCndXnPq"
    },
    {
      "cell_type": "code",
      "source": [
        "# kütüphaneleri yükleyin\n"
      ],
      "metadata": {
        "id": "syfV7G3SdzmA"
      },
      "id": "syfV7G3SdzmA",
      "execution_count": null,
      "outputs": []
    },
    {
      "cell_type": "code",
      "source": [
        "#from google.colab import drive\n",
        "#drive.mount('/content/drive')"
      ],
      "metadata": {
        "id": "IiC04N8kTcU1"
      },
      "id": "IiC04N8kTcU1",
      "execution_count": null,
      "outputs": []
    },
    {
      "cell_type": "code",
      "source": [
        "#ROOT_DIR = \"/content/drive/MyDrive/CASGEM-Egitim/Egitim-Part1/Day1-Intro/notebooks\"\n",
        "#DATASET_PATH = ROOT_DIR + \"/datasets/\"\n",
        "\n",
        "ROOT_DIR = \"https://media.githubusercontent.com/media/yapay-ogrenme/casgem-eu-project-training-on-data-mining-2nd/main/PART1/Day1-Intro/notebooks\"\n",
        "DATASET_PATH = ROOT_DIR + \"/datasets/\""
      ],
      "metadata": {
        "id": "euuRrpDnTdX6"
      },
      "id": "euuRrpDnTdX6",
      "execution_count": null,
      "outputs": []
    },
    {
      "cell_type": "code",
      "execution_count": null,
      "id": "334fcf64",
      "metadata": {
        "execution": {
          "iopub.execute_input": "2022-03-27T14:38:15.879495Z",
          "iopub.status.busy": "2022-03-27T14:38:15.878854Z",
          "iopub.status.idle": "2022-03-27T14:38:15.949533Z",
          "shell.execute_reply": "2022-03-27T14:38:15.950086Z",
          "shell.execute_reply.started": "2022-03-27T14:35:19.515154Z"
        },
        "papermill": {
          "duration": 0.096885,
          "end_time": "2022-03-27T14:38:15.950282",
          "exception": false,
          "start_time": "2022-03-27T14:38:15.853397",
          "status": "completed"
        },
        "tags": [],
        "id": "334fcf64"
      },
      "outputs": [],
      "source": [
        "df = pd.read_csv(DATASET_PATH + 'breast_cancer_dataset.csv')"
      ]
    },
    {
      "cell_type": "markdown",
      "source": [
        "Öznitelik Bilgileri:\n",
        "\n",
        "- id (kimlik numarası)\n",
        "- diagnosis (tanı) (M = malignant (kötü huylu), B = benign (iyi huylu))\n"
      ],
      "metadata": {
        "id": "qWENOx6mrBJ7"
      },
      "id": "qWENOx6mrBJ7"
    },
    {
      "cell_type": "markdown",
      "source": [
        "Yüklenen (Load edilen) dataframe'i görüntüleyin"
      ],
      "metadata": {
        "id": "8HAu7MrJXwo7"
      },
      "id": "8HAu7MrJXwo7"
    },
    {
      "cell_type": "code",
      "source": [
        "# dataframe'i görüntüleyin\n"
      ],
      "metadata": {
        "id": "8eF8CCuXeBSn"
      },
      "id": "8eF8CCuXeBSn",
      "execution_count": null,
      "outputs": []
    },
    {
      "cell_type": "markdown",
      "source": [
        "Dataframe'in boyutunu görüntüleyin"
      ],
      "metadata": {
        "id": "CvaRixvYXz3L"
      },
      "id": "CvaRixvYXz3L"
    },
    {
      "cell_type": "code",
      "execution_count": null,
      "id": "ab90f5a5",
      "metadata": {
        "execution": {
          "iopub.execute_input": "2022-03-27T14:38:16.002738Z",
          "iopub.status.busy": "2022-03-27T14:38:16.002027Z",
          "iopub.status.idle": "2022-03-27T14:38:16.005863Z",
          "shell.execute_reply": "2022-03-27T14:38:16.005163Z",
          "shell.execute_reply.started": "2022-03-27T14:35:19.586016Z"
        },
        "papermill": {
          "duration": 0.032861,
          "end_time": "2022-03-27T14:38:16.006010",
          "exception": false,
          "start_time": "2022-03-27T14:38:15.973149",
          "status": "completed"
        },
        "tags": [],
        "id": "ab90f5a5"
      },
      "outputs": [],
      "source": [
        "# boyutunu görüntüleyin\n"
      ]
    },
    {
      "cell_type": "markdown",
      "source": [
        "DataFrame içerisindeki **\"Unnamed: 32\"** ve **\"id\"** kolonlarını dataframe'den kaldırın."
      ],
      "metadata": {
        "id": "cgY2qNnNYDuH"
      },
      "id": "cgY2qNnNYDuH"
    },
    {
      "cell_type": "code",
      "execution_count": null,
      "id": "30c10cef",
      "metadata": {
        "execution": {
          "iopub.execute_input": "2022-03-27T14:38:16.066198Z",
          "iopub.status.busy": "2022-03-27T14:38:16.065393Z",
          "iopub.status.idle": "2022-03-27T14:38:16.069128Z",
          "shell.execute_reply": "2022-03-27T14:38:16.068573Z",
          "shell.execute_reply.started": "2022-03-27T14:35:19.593751Z"
        },
        "papermill": {
          "duration": 0.039569,
          "end_time": "2022-03-27T14:38:16.069276",
          "exception": false,
          "start_time": "2022-03-27T14:38:16.029707",
          "status": "completed"
        },
        "tags": [],
        "id": "30c10cef"
      },
      "outputs": [],
      "source": [
        "#  \"Unnamed: 32\" ve \"id\" kolonlarını kaldırın\n"
      ]
    },
    {
      "cell_type": "markdown",
      "source": [
        "Veri kümesini tahminlenmeye çalışılan değerlerini içeren kolonun adı **\"diagnosis\"** (teşhis,tanı) dir.\n",
        "pandas dataframe'in `unique()` property'sini kullanarak farklı etiketin bulunduğunu keşfedin.\n"
      ],
      "metadata": {
        "id": "YjeXuWAWYTLx"
      },
      "id": "YjeXuWAWYTLx"
    },
    {
      "cell_type": "code",
      "execution_count": null,
      "id": "b12339eb",
      "metadata": {
        "execution": {
          "iopub.execute_input": "2022-03-27T14:38:16.125077Z",
          "iopub.status.busy": "2022-03-27T14:38:16.124200Z",
          "iopub.status.idle": "2022-03-27T14:38:16.128006Z",
          "shell.execute_reply": "2022-03-27T14:38:16.127360Z",
          "shell.execute_reply.started": "2022-03-27T14:35:19.610224Z"
        },
        "papermill": {
          "duration": 0.035937,
          "end_time": "2022-03-27T14:38:16.128151",
          "exception": false,
          "start_time": "2022-03-27T14:38:16.092214",
          "status": "completed"
        },
        "tags": [],
        "id": "b12339eb"
      },
      "outputs": [],
      "source": [
        "#  diagnosis benzersiz değerlerini yazdırın\n"
      ]
    },
    {
      "cell_type": "markdown",
      "source": [
        "pandas dataframe'in `value_counts()` property'sini kullanarak her sınıfa ait örnek sayısını bulun. "
      ],
      "metadata": {
        "id": "Gs9NQs-nYrk_"
      },
      "id": "Gs9NQs-nYrk_"
    },
    {
      "cell_type": "code",
      "execution_count": null,
      "id": "acaa5d5b",
      "metadata": {
        "execution": {
          "iopub.execute_input": "2022-03-27T14:38:16.186351Z",
          "iopub.status.busy": "2022-03-27T14:38:16.185510Z",
          "iopub.status.idle": "2022-03-27T14:38:16.188894Z",
          "shell.execute_reply": "2022-03-27T14:38:16.189380Z",
          "shell.execute_reply.started": "2022-03-27T14:35:19.623986Z"
        },
        "papermill": {
          "duration": 0.038223,
          "end_time": "2022-03-27T14:38:16.189553",
          "exception": false,
          "start_time": "2022-03-27T14:38:16.151330",
          "status": "completed"
        },
        "tags": [],
        "id": "acaa5d5b"
      },
      "outputs": [],
      "source": [
        "# her sınıfa ait örnek sayısını bulun\n"
      ]
    },
    {
      "cell_type": "markdown",
      "source": [
        "\"diagnosis\" kolonundaki M değerlerini 1 ile, B değerlerini ise 0 ile değiştirin\n"
      ],
      "metadata": {
        "id": "MN1TBeASZVAN"
      },
      "id": "MN1TBeASZVAN"
    },
    {
      "cell_type": "code",
      "execution_count": null,
      "id": "ae705c0a",
      "metadata": {
        "execution": {
          "iopub.execute_input": "2022-03-27T14:38:16.372987Z",
          "iopub.status.busy": "2022-03-27T14:38:16.372298Z",
          "iopub.status.idle": "2022-03-27T14:38:16.374855Z",
          "shell.execute_reply": "2022-03-27T14:38:16.375335Z",
          "shell.execute_reply.started": "2022-03-27T14:35:19.670143Z"
        },
        "papermill": {
          "duration": 0.034467,
          "end_time": "2022-03-27T14:38:16.375520",
          "exception": false,
          "start_time": "2022-03-27T14:38:16.341053",
          "status": "completed"
        },
        "tags": [],
        "id": "ae705c0a"
      },
      "outputs": [],
      "source": [
        "# \"diagnosis\" kolonundaki M değerlerini 1 ile, B değerlerini ise 0 ile değiştirin\n"
      ]
    },
    {
      "cell_type": "markdown",
      "source": [
        "model inputu olarak etiket değerlerini \"y\" dizisine, diğer öznitelikleri (features) de X matrisine tanımlayın.  "
      ],
      "metadata": {
        "id": "bGmO9_SVZj4p"
      },
      "id": "bGmO9_SVZj4p"
    },
    {
      "cell_type": "code",
      "source": [
        "# model inputu olarak etiket değerlerini \"y\" dizisine, diğer öznitelikleri (features) de X matrisine tanımlayın.  "
      ],
      "metadata": {
        "id": "EeIhWkOlZ74d"
      },
      "id": "EeIhWkOlZ74d",
      "execution_count": null,
      "outputs": []
    },
    {
      "cell_type": "markdown",
      "source": [
        "X matrisinin boyutunun (569, 30) olduğunu görüntüleyerek teyit edin."
      ],
      "metadata": {
        "id": "qbQBQ5GuaCr1"
      },
      "id": "qbQBQ5GuaCr1"
    },
    {
      "cell_type": "code",
      "execution_count": null,
      "id": "02bb2f6d",
      "metadata": {
        "execution": {
          "iopub.execute_input": "2022-03-27T14:38:16.488189Z",
          "iopub.status.busy": "2022-03-27T14:38:16.487447Z",
          "iopub.status.idle": "2022-03-27T14:38:16.491570Z",
          "shell.execute_reply": "2022-03-27T14:38:16.491062Z",
          "shell.execute_reply.started": "2022-03-27T14:35:19.690026Z"
        },
        "papermill": {
          "duration": 0.033671,
          "end_time": "2022-03-27T14:38:16.491760",
          "exception": false,
          "start_time": "2022-03-27T14:38:16.458089",
          "status": "completed"
        },
        "tags": [],
        "id": "02bb2f6d"
      },
      "outputs": [],
      "source": [
        "# X matrisinin boyutunun (569, 30) olduğunu görüntüleyerek teyit edin.\n"
      ]
    },
    {
      "cell_type": "markdown",
      "source": [
        "Tüm veri kümesinin %30'unu test kümesi, geri kalanını da eğitim kümesi olacak şekilde ayırın."
      ],
      "metadata": {
        "id": "pshC9qkIabSO"
      },
      "id": "pshC9qkIabSO"
    },
    {
      "cell_type": "code",
      "execution_count": null,
      "id": "171d76f4",
      "metadata": {
        "execution": {
          "iopub.execute_input": "2022-03-27T14:38:16.754670Z",
          "iopub.status.busy": "2022-03-27T14:38:16.754036Z",
          "iopub.status.idle": "2022-03-27T14:38:16.759373Z",
          "shell.execute_reply": "2022-03-27T14:38:16.760023Z",
          "shell.execute_reply.started": "2022-03-27T14:35:19.807625Z"
        },
        "papermill": {
          "duration": 0.035406,
          "end_time": "2022-03-27T14:38:16.760215",
          "exception": false,
          "start_time": "2022-03-27T14:38:16.724809",
          "status": "completed"
        },
        "tags": [],
        "id": "171d76f4"
      },
      "outputs": [],
      "source": [
        "# Tüm veri kümesinin %30'unu test kümesi, geri kalanını da eğitim kümesi olacak şekilde ayırın.\n"
      ]
    },
    {
      "cell_type": "markdown",
      "source": [
        "## SVM"
      ],
      "metadata": {
        "id": "WfmHn9vScLON"
      },
      "id": "WfmHn9vScLON"
    },
    {
      "cell_type": "markdown",
      "source": [
        "`sklearn` kütüphanesi altındaki **SVC** (SVM) sınıflandırma algoritmasını kullanarak sınıflandırma modelini eğitin.\n",
        "\n",
        "**kernel** hiperparametresini **linear** olarak tanımlayarak kullanın."
      ],
      "metadata": {
        "id": "osYXNpW3agOB"
      },
      "id": "osYXNpW3agOB"
    },
    {
      "cell_type": "code",
      "source": [
        "# `sklearn` kütüphanesi altındaki **SVC** (SVM) sınıflandırma algoritmasını kullanarak sınıflandırma modelini eğitin.\n",
        "# **kernel** hiperparametresini **linear** olarak tanımlayarak kullanın.\n"
      ],
      "metadata": {
        "id": "OgsGRuoNUtQF"
      },
      "id": "OgsGRuoNUtQF",
      "execution_count": null,
      "outputs": []
    },
    {
      "cell_type": "markdown",
      "source": [
        "Eğitmiş modeli, test kümesi üzerinde çalıştırarak tahminleri elde edin ve tahmin sonuçlarını görüntüleyin. "
      ],
      "metadata": {
        "id": "E6lD4wmzbGVi"
      },
      "id": "E6lD4wmzbGVi"
    },
    {
      "cell_type": "code",
      "source": [
        "# Eğitmiş modeli, test kümesi üzerinde çalıştırarak tahminleri elde edin ve tahmin sonuçlarını görüntüleyin. \n"
      ],
      "metadata": {
        "id": "MSnzBk2nVDFH"
      },
      "id": "MSnzBk2nVDFH",
      "execution_count": null,
      "outputs": []
    },
    {
      "cell_type": "markdown",
      "source": [
        "`sklearn.metrics` kütüphanesi altındaki `accuracy_score` fonksiyonundan yararlanarak başarım oranını hesaplayın"
      ],
      "metadata": {
        "id": "f_qe4x0gbU6S"
      },
      "id": "f_qe4x0gbU6S"
    },
    {
      "cell_type": "code",
      "source": [
        "# Accuracy Score\n"
      ],
      "metadata": {
        "id": "zjzOzAIbV6wm"
      },
      "id": "zjzOzAIbV6wm",
      "execution_count": null,
      "outputs": []
    },
    {
      "cell_type": "markdown",
      "source": [
        "test kümesinin etiketleri ile test kümesi üzerindeki model tahminlerini karşılaştıran confusion_matrix (karışıklık matrisi)ni oluşturun.\n"
      ],
      "metadata": {
        "id": "hNFMgmrnblgp"
      },
      "id": "hNFMgmrnblgp"
    },
    {
      "cell_type": "code",
      "execution_count": null,
      "id": "3881a4e3",
      "metadata": {
        "execution": {
          "iopub.execute_input": "2022-03-27T14:38:24.609706Z",
          "iopub.status.busy": "2022-03-27T14:38:24.609027Z",
          "iopub.status.idle": "2022-03-27T14:38:25.074455Z",
          "shell.execute_reply": "2022-03-27T14:38:25.073852Z",
          "shell.execute_reply.started": "2022-03-27T14:35:27.191050Z"
        },
        "papermill": {
          "duration": 0.49638,
          "end_time": "2022-03-27T14:38:25.074630",
          "exception": false,
          "start_time": "2022-03-27T14:38:24.578250",
          "status": "completed"
        },
        "tags": [],
        "id": "3881a4e3"
      },
      "outputs": [],
      "source": [
        "# confusion_matrix\n"
      ]
    },
    {
      "cell_type": "markdown",
      "source": [
        "## KNeighborsClassifier\n",
        "\n",
        "SVM'e benzer şekilde `KNeighborsClassifier` sınıflandırma modelini eğiterek ACC (Accuracy) ve CF (Confusion Matrix) değerlerini hesaplayın.\n",
        "\n",
        "KNeighborsClassifier modeli için n_neighbors hiperparametre değerini 5 olarak atayınız."
      ],
      "metadata": {
        "id": "Eq_wqI7acJK2"
      },
      "id": "Eq_wqI7acJK2"
    },
    {
      "cell_type": "code",
      "source": [
        "# SVM'e benzer şekilde `KNeighborsClassifier` sınıflandırma modelini eğiterek ACC (Accuracy) ve CF (Confusion Matrix) değerlerini hesaplayın.\n",
        "# KNeighborsClassifier modeli için n_neighbors hiperparametre değerini 5 olarak atayınız.\n"
      ],
      "metadata": {
        "id": "cc-lD64vVMGa"
      },
      "id": "cc-lD64vVMGa",
      "execution_count": null,
      "outputs": []
    },
    {
      "cell_type": "code",
      "source": [
        "# Accuracy Score\n"
      ],
      "metadata": {
        "id": "jzoK0xg9V4RF"
      },
      "id": "jzoK0xg9V4RF",
      "execution_count": null,
      "outputs": []
    },
    {
      "cell_type": "code",
      "source": [
        "# confusion_matrix\n"
      ],
      "metadata": {
        "id": "y7nHRTcFVd3N"
      },
      "id": "y7nHRTcFVd3N",
      "execution_count": null,
      "outputs": []
    },
    {
      "cell_type": "code",
      "source": [
        ""
      ],
      "metadata": {
        "id": "dx5PDgPQVkzg"
      },
      "id": "dx5PDgPQVkzg",
      "execution_count": null,
      "outputs": []
    }
  ],
  "metadata": {
    "kernelspec": {
      "display_name": "Python 3",
      "language": "python",
      "name": "python3"
    },
    "language_info": {
      "codemirror_mode": {
        "name": "ipython",
        "version": 3
      },
      "file_extension": ".py",
      "mimetype": "text/x-python",
      "name": "python",
      "nbconvert_exporter": "python",
      "pygments_lexer": "ipython3",
      "version": "3.7.12"
    },
    "papermill": {
      "default_parameters": {},
      "duration": 22.945646,
      "end_time": "2022-03-27T14:38:26.218269",
      "environment_variables": {},
      "exception": null,
      "input_path": "__notebook__.ipynb",
      "output_path": "__notebook__.ipynb",
      "parameters": {},
      "start_time": "2022-03-27T14:38:03.272623",
      "version": "2.3.3"
    },
    "colab": {
      "name": "Day1-Introduction-Exercises-1-Breast-Cancer-Classification.ipynb",
      "provenance": [],
      "collapsed_sections": []
    }
  },
  "nbformat": 4,
  "nbformat_minor": 5
}