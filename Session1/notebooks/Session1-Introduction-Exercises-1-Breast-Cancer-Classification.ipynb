{
  "cells": [
    {
      "cell_type": "markdown",
      "id": "M1SDvcE_pQVX",
      "metadata": {
        "id": "M1SDvcE_pQVX"
      },
      "source": [
        "# Göğüs Kanseri (Breast Cancer) Sınıflandırması"
      ]
    },
    {
      "cell_type": "markdown",
      "id": "kHk1RCndXnPq",
      "metadata": {
        "id": "kHk1RCndXnPq"
      },
      "source": [
        "`pandas`, `numpy` ve `seaborn` kütüphanelerini kullanmak üzere ekleyin (import edin)\n"
      ]
    },
    {
      "cell_type": "code",
      "execution_count": null,
      "id": "syfV7G3SdzmA",
      "metadata": {
        "id": "syfV7G3SdzmA"
      },
      "outputs": [],
      "source": [
        "# kütüphaneleri yükleyin\n"
      ]
    },
    {
      "cell_type": "code",
      "execution_count": null,
      "id": "IiC04N8kTcU1",
      "metadata": {
        "id": "IiC04N8kTcU1"
      },
      "outputs": [],
      "source": [
        "#from google.colab import drive\n",
        "#drive.mount('/content/drive')"
      ]
    },
    {
      "cell_type": "code",
      "execution_count": null,
      "id": "euuRrpDnTdX6",
      "metadata": {
        "id": "euuRrpDnTdX6"
      },
      "outputs": [],
      "source": [
        "#ROOT_DIR = \"/content/drive/MyDrive/..\"\n",
        "#DATASET_PATH = ROOT_DIR + \"/datasets/\"\n",
        "\n",
        "ROOT_DIR = \"https://raw.githubusercontent.com/yavuzKomecoglu/yapay-zeka-egitimi-tubitak-bideb-2237a/main/\"\n",
        "DATASET_PATH = ROOT_DIR + \"Session1/notebooks/datasets/breast_cancer_dataset.csv\""
      ]
    },
    {
      "cell_type": "code",
      "execution_count": null,
      "id": "334fcf64",
      "metadata": {
        "execution": {
          "iopub.execute_input": "2022-03-27T14:38:15.879495Z",
          "iopub.status.busy": "2022-03-27T14:38:15.878854Z",
          "iopub.status.idle": "2022-03-27T14:38:15.949533Z",
          "shell.execute_reply": "2022-03-27T14:38:15.950086Z",
          "shell.execute_reply.started": "2022-03-27T14:35:19.515154Z"
        },
        "id": "334fcf64",
        "papermill": {
          "duration": 0.096885,
          "end_time": "2022-03-27T14:38:15.950282",
          "exception": false,
          "start_time": "2022-03-27T14:38:15.853397",
          "status": "completed"
        },
        "tags": []
      },
      "outputs": [],
      "source": [
        "df = pd.read_csv(DATASET_PATH)"
      ]
    },
    {
      "cell_type": "markdown",
      "id": "qWENOx6mrBJ7",
      "metadata": {
        "id": "qWENOx6mrBJ7"
      },
      "source": [
        "Öznitelik Bilgileri:\n",
        "\n",
        "- id (kimlik numarası)\n",
        "- diagnosis (tanı) (M = malignant (kötü huylu), B = benign (iyi huylu))\n"
      ]
    },
    {
      "cell_type": "markdown",
      "id": "8HAu7MrJXwo7",
      "metadata": {
        "id": "8HAu7MrJXwo7"
      },
      "source": [
        "Yüklenen (Load edilen) dataframe'i görüntüleyin"
      ]
    },
    {
      "cell_type": "code",
      "execution_count": null,
      "id": "8eF8CCuXeBSn",
      "metadata": {
        "id": "8eF8CCuXeBSn"
      },
      "outputs": [],
      "source": [
        "# dataframe'i görüntüleyin\n"
      ]
    },
    {
      "cell_type": "markdown",
      "id": "CvaRixvYXz3L",
      "metadata": {
        "id": "CvaRixvYXz3L"
      },
      "source": [
        "Dataframe'in boyutunu görüntüleyin"
      ]
    },
    {
      "cell_type": "code",
      "execution_count": null,
      "id": "ab90f5a5",
      "metadata": {
        "execution": {
          "iopub.execute_input": "2022-03-27T14:38:16.002738Z",
          "iopub.status.busy": "2022-03-27T14:38:16.002027Z",
          "iopub.status.idle": "2022-03-27T14:38:16.005863Z",
          "shell.execute_reply": "2022-03-27T14:38:16.005163Z",
          "shell.execute_reply.started": "2022-03-27T14:35:19.586016Z"
        },
        "id": "ab90f5a5",
        "papermill": {
          "duration": 0.032861,
          "end_time": "2022-03-27T14:38:16.006010",
          "exception": false,
          "start_time": "2022-03-27T14:38:15.973149",
          "status": "completed"
        },
        "tags": []
      },
      "outputs": [],
      "source": [
        "# boyutunu görüntüleyin\n"
      ]
    },
    {
      "cell_type": "markdown",
      "id": "cgY2qNnNYDuH",
      "metadata": {
        "id": "cgY2qNnNYDuH"
      },
      "source": [
        "DataFrame içerisindeki **\"Unnamed: 32\"** ve **\"id\"** kolonlarını dataframe'den kaldırın."
      ]
    },
    {
      "cell_type": "code",
      "execution_count": null,
      "id": "30c10cef",
      "metadata": {
        "execution": {
          "iopub.execute_input": "2022-03-27T14:38:16.066198Z",
          "iopub.status.busy": "2022-03-27T14:38:16.065393Z",
          "iopub.status.idle": "2022-03-27T14:38:16.069128Z",
          "shell.execute_reply": "2022-03-27T14:38:16.068573Z",
          "shell.execute_reply.started": "2022-03-27T14:35:19.593751Z"
        },
        "id": "30c10cef",
        "papermill": {
          "duration": 0.039569,
          "end_time": "2022-03-27T14:38:16.069276",
          "exception": false,
          "start_time": "2022-03-27T14:38:16.029707",
          "status": "completed"
        },
        "tags": []
      },
      "outputs": [],
      "source": [
        "#  \"Unnamed: 32\" ve \"id\" kolonlarını kaldırın\n"
      ]
    },
    {
      "cell_type": "markdown",
      "id": "YjeXuWAWYTLx",
      "metadata": {
        "id": "YjeXuWAWYTLx"
      },
      "source": [
        "Veri kümesini tahminlenmeye çalışılan değerlerini içeren kolonun adı **\"diagnosis\"** (teşhis,tanı) dir.\n",
        "pandas dataframe'in `unique()` property'sini kullanarak farklı etiketin bulunduğunu keşfedin.\n"
      ]
    },
    {
      "cell_type": "code",
      "execution_count": null,
      "id": "b12339eb",
      "metadata": {
        "execution": {
          "iopub.execute_input": "2022-03-27T14:38:16.125077Z",
          "iopub.status.busy": "2022-03-27T14:38:16.124200Z",
          "iopub.status.idle": "2022-03-27T14:38:16.128006Z",
          "shell.execute_reply": "2022-03-27T14:38:16.127360Z",
          "shell.execute_reply.started": "2022-03-27T14:35:19.610224Z"
        },
        "id": "b12339eb",
        "papermill": {
          "duration": 0.035937,
          "end_time": "2022-03-27T14:38:16.128151",
          "exception": false,
          "start_time": "2022-03-27T14:38:16.092214",
          "status": "completed"
        },
        "tags": []
      },
      "outputs": [],
      "source": [
        "#  diagnosis benzersiz değerlerini yazdırın\n"
      ]
    },
    {
      "cell_type": "markdown",
      "id": "Gs9NQs-nYrk_",
      "metadata": {
        "id": "Gs9NQs-nYrk_"
      },
      "source": [
        "pandas dataframe'in `value_counts()` property'sini kullanarak her sınıfa ait örnek sayısını bulun. "
      ]
    },
    {
      "cell_type": "code",
      "execution_count": null,
      "id": "acaa5d5b",
      "metadata": {
        "execution": {
          "iopub.execute_input": "2022-03-27T14:38:16.186351Z",
          "iopub.status.busy": "2022-03-27T14:38:16.185510Z",
          "iopub.status.idle": "2022-03-27T14:38:16.188894Z",
          "shell.execute_reply": "2022-03-27T14:38:16.189380Z",
          "shell.execute_reply.started": "2022-03-27T14:35:19.623986Z"
        },
        "id": "acaa5d5b",
        "papermill": {
          "duration": 0.038223,
          "end_time": "2022-03-27T14:38:16.189553",
          "exception": false,
          "start_time": "2022-03-27T14:38:16.151330",
          "status": "completed"
        },
        "tags": []
      },
      "outputs": [],
      "source": [
        "# her sınıfa ait örnek sayısını bulun\n"
      ]
    },
    {
      "cell_type": "markdown",
      "id": "MN1TBeASZVAN",
      "metadata": {
        "id": "MN1TBeASZVAN"
      },
      "source": [
        "\"diagnosis\" kolonundaki M değerlerini 1 ile, B değerlerini ise 0 ile değiştirin\n"
      ]
    },
    {
      "cell_type": "code",
      "execution_count": null,
      "id": "ae705c0a",
      "metadata": {
        "execution": {
          "iopub.execute_input": "2022-03-27T14:38:16.372987Z",
          "iopub.status.busy": "2022-03-27T14:38:16.372298Z",
          "iopub.status.idle": "2022-03-27T14:38:16.374855Z",
          "shell.execute_reply": "2022-03-27T14:38:16.375335Z",
          "shell.execute_reply.started": "2022-03-27T14:35:19.670143Z"
        },
        "id": "ae705c0a",
        "papermill": {
          "duration": 0.034467,
          "end_time": "2022-03-27T14:38:16.375520",
          "exception": false,
          "start_time": "2022-03-27T14:38:16.341053",
          "status": "completed"
        },
        "tags": []
      },
      "outputs": [],
      "source": [
        "# \"diagnosis\" kolonundaki M değerlerini 1 ile, B değerlerini ise 0 ile değiştirin\n"
      ]
    },
    {
      "cell_type": "markdown",
      "id": "bGmO9_SVZj4p",
      "metadata": {
        "id": "bGmO9_SVZj4p"
      },
      "source": [
        "model inputu olarak etiket değerlerini \"y\" dizisine, diğer öznitelikleri (features) de X matrisine tanımlayın.  "
      ]
    },
    {
      "cell_type": "code",
      "execution_count": null,
      "id": "EeIhWkOlZ74d",
      "metadata": {
        "id": "EeIhWkOlZ74d"
      },
      "outputs": [],
      "source": [
        "# model inputu olarak etiket değerlerini \"y\" dizisine, diğer öznitelikleri (features) de X matrisine tanımlayın.  "
      ]
    },
    {
      "cell_type": "markdown",
      "id": "qbQBQ5GuaCr1",
      "metadata": {
        "id": "qbQBQ5GuaCr1"
      },
      "source": [
        "X matrisinin boyutunun (569, 30) olduğunu görüntüleyerek teyit edin."
      ]
    },
    {
      "cell_type": "code",
      "execution_count": null,
      "id": "02bb2f6d",
      "metadata": {
        "execution": {
          "iopub.execute_input": "2022-03-27T14:38:16.488189Z",
          "iopub.status.busy": "2022-03-27T14:38:16.487447Z",
          "iopub.status.idle": "2022-03-27T14:38:16.491570Z",
          "shell.execute_reply": "2022-03-27T14:38:16.491062Z",
          "shell.execute_reply.started": "2022-03-27T14:35:19.690026Z"
        },
        "id": "02bb2f6d",
        "papermill": {
          "duration": 0.033671,
          "end_time": "2022-03-27T14:38:16.491760",
          "exception": false,
          "start_time": "2022-03-27T14:38:16.458089",
          "status": "completed"
        },
        "tags": []
      },
      "outputs": [],
      "source": [
        "# X matrisinin boyutunun (569, 30) olduğunu görüntüleyerek teyit edin.\n"
      ]
    },
    {
      "cell_type": "markdown",
      "id": "pshC9qkIabSO",
      "metadata": {
        "id": "pshC9qkIabSO"
      },
      "source": [
        "Tüm veri kümesinin %30'unu test kümesi, geri kalanını da eğitim kümesi olacak şekilde ayırın."
      ]
    },
    {
      "cell_type": "code",
      "execution_count": null,
      "id": "171d76f4",
      "metadata": {
        "execution": {
          "iopub.execute_input": "2022-03-27T14:38:16.754670Z",
          "iopub.status.busy": "2022-03-27T14:38:16.754036Z",
          "iopub.status.idle": "2022-03-27T14:38:16.759373Z",
          "shell.execute_reply": "2022-03-27T14:38:16.760023Z",
          "shell.execute_reply.started": "2022-03-27T14:35:19.807625Z"
        },
        "id": "171d76f4",
        "papermill": {
          "duration": 0.035406,
          "end_time": "2022-03-27T14:38:16.760215",
          "exception": false,
          "start_time": "2022-03-27T14:38:16.724809",
          "status": "completed"
        },
        "tags": []
      },
      "outputs": [],
      "source": [
        "# Tüm veri kümesinin %30'unu test kümesi, geri kalanını da eğitim kümesi olacak şekilde ayırın.\n"
      ]
    },
    {
      "cell_type": "markdown",
      "id": "WfmHn9vScLON",
      "metadata": {
        "id": "WfmHn9vScLON"
      },
      "source": [
        "## SVM"
      ]
    },
    {
      "cell_type": "markdown",
      "id": "osYXNpW3agOB",
      "metadata": {
        "id": "osYXNpW3agOB"
      },
      "source": [
        "`sklearn` kütüphanesi altındaki **SVC** (SVM) sınıflandırma algoritmasını kullanarak sınıflandırma modelini eğitin.\n",
        "\n",
        "**kernel** hiperparametresini **linear** olarak tanımlayarak kullanın."
      ]
    },
    {
      "cell_type": "code",
      "execution_count": null,
      "id": "OgsGRuoNUtQF",
      "metadata": {
        "id": "OgsGRuoNUtQF"
      },
      "outputs": [],
      "source": [
        "# `sklearn` kütüphanesi altındaki **SVC** (SVM) sınıflandırma algoritmasını kullanarak sınıflandırma modelini eğitin.\n",
        "# **kernel** hiperparametresini **linear** olarak tanımlayarak kullanın.\n"
      ]
    },
    {
      "cell_type": "markdown",
      "id": "E6lD4wmzbGVi",
      "metadata": {
        "id": "E6lD4wmzbGVi"
      },
      "source": [
        "Eğitmiş modeli, test kümesi üzerinde çalıştırarak tahminleri elde edin ve tahmin sonuçlarını görüntüleyin. "
      ]
    },
    {
      "cell_type": "code",
      "execution_count": null,
      "id": "MSnzBk2nVDFH",
      "metadata": {
        "id": "MSnzBk2nVDFH"
      },
      "outputs": [],
      "source": [
        "# Eğitmiş modeli, test kümesi üzerinde çalıştırarak tahminleri elde edin ve tahmin sonuçlarını görüntüleyin. \n"
      ]
    },
    {
      "cell_type": "markdown",
      "id": "f_qe4x0gbU6S",
      "metadata": {
        "id": "f_qe4x0gbU6S"
      },
      "source": [
        "`sklearn.metrics` kütüphanesi altındaki `accuracy_score` fonksiyonundan yararlanarak başarım oranını hesaplayın"
      ]
    },
    {
      "cell_type": "code",
      "execution_count": null,
      "id": "zjzOzAIbV6wm",
      "metadata": {
        "id": "zjzOzAIbV6wm"
      },
      "outputs": [],
      "source": [
        "# Accuracy Score\n"
      ]
    },
    {
      "cell_type": "markdown",
      "id": "hNFMgmrnblgp",
      "metadata": {
        "id": "hNFMgmrnblgp"
      },
      "source": [
        "test kümesinin etiketleri ile test kümesi üzerindeki model tahminlerini karşılaştıran confusion_matrix (karışıklık matrisi)ni oluşturun.\n"
      ]
    },
    {
      "cell_type": "code",
      "execution_count": null,
      "id": "3881a4e3",
      "metadata": {
        "execution": {
          "iopub.execute_input": "2022-03-27T14:38:24.609706Z",
          "iopub.status.busy": "2022-03-27T14:38:24.609027Z",
          "iopub.status.idle": "2022-03-27T14:38:25.074455Z",
          "shell.execute_reply": "2022-03-27T14:38:25.073852Z",
          "shell.execute_reply.started": "2022-03-27T14:35:27.191050Z"
        },
        "id": "3881a4e3",
        "papermill": {
          "duration": 0.49638,
          "end_time": "2022-03-27T14:38:25.074630",
          "exception": false,
          "start_time": "2022-03-27T14:38:24.578250",
          "status": "completed"
        },
        "tags": []
      },
      "outputs": [],
      "source": [
        "# confusion_matrix\n"
      ]
    },
    {
      "cell_type": "markdown",
      "id": "Eq_wqI7acJK2",
      "metadata": {
        "id": "Eq_wqI7acJK2"
      },
      "source": [
        "## KNeighborsClassifier\n",
        "\n",
        "SVM'e benzer şekilde `KNeighborsClassifier` sınıflandırma modelini eğiterek ACC (Accuracy) ve CF (Confusion Matrix) değerlerini hesaplayın.\n",
        "\n",
        "KNeighborsClassifier modeli için n_neighbors hiperparametre değerini 5 olarak atayınız."
      ]
    },
    {
      "cell_type": "code",
      "execution_count": null,
      "id": "cc-lD64vVMGa",
      "metadata": {
        "id": "cc-lD64vVMGa"
      },
      "outputs": [],
      "source": [
        "# SVM'e benzer şekilde `KNeighborsClassifier` sınıflandırma modelini eğiterek ACC (Accuracy) ve CF (Confusion Matrix) değerlerini hesaplayın.\n",
        "# KNeighborsClassifier modeli için n_neighbors hiperparametre değerini 5 olarak atayınız.\n"
      ]
    },
    {
      "cell_type": "code",
      "execution_count": null,
      "id": "jzoK0xg9V4RF",
      "metadata": {
        "id": "jzoK0xg9V4RF"
      },
      "outputs": [],
      "source": [
        "# Accuracy Score\n"
      ]
    },
    {
      "cell_type": "code",
      "execution_count": null,
      "id": "y7nHRTcFVd3N",
      "metadata": {
        "id": "y7nHRTcFVd3N"
      },
      "outputs": [],
      "source": [
        "# confusion_matrix\n"
      ]
    },
    {
      "cell_type": "code",
      "execution_count": null,
      "id": "dx5PDgPQVkzg",
      "metadata": {
        "id": "dx5PDgPQVkzg"
      },
      "outputs": [],
      "source": []
    }
  ],
  "metadata": {
    "colab": {
      "collapsed_sections": [],
      "name": "Day1-Introduction-Exercises-1-Breast-Cancer-Classification.ipynb",
      "provenance": []
    },
    "kernelspec": {
      "display_name": "Python 3",
      "language": "python",
      "name": "python3"
    },
    "language_info": {
      "codemirror_mode": {
        "name": "ipython",
        "version": 3
      },
      "file_extension": ".py",
      "mimetype": "text/x-python",
      "name": "python",
      "nbconvert_exporter": "python",
      "pygments_lexer": "ipython3",
      "version": "3.7.12"
    },
    "papermill": {
      "default_parameters": {},
      "duration": 22.945646,
      "end_time": "2022-03-27T14:38:26.218269",
      "environment_variables": {},
      "exception": null,
      "input_path": "__notebook__.ipynb",
      "output_path": "__notebook__.ipynb",
      "parameters": {},
      "start_time": "2022-03-27T14:38:03.272623",
      "version": "2.3.3"
    }
  },
  "nbformat": 4,
  "nbformat_minor": 5
}
